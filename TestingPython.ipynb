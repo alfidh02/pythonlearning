{
  "nbformat": 4,
  "nbformat_minor": 0,
  "metadata": {
    "colab": {
      "name": "TestingPython.ipynb",
      "provenance": [],
      "collapsed_sections": [],
      "authorship_tag": "ABX9TyMqDXnKWYcNzY1DXNAGuGNZ"
    },
    "kernelspec": {
      "name": "python3",
      "display_name": "Python 3"
    }
  },
  "cells": [
    {
      "cell_type": "code",
      "metadata": {
        "id": "bMzBmfZDM7Ya",
        "colab_type": "code",
        "outputId": "38a8a23f-6738-4659-e541-8a201f20fbda",
        "colab": {
          "base_uri": "https://localhost:8080/",
          "height": 35
        }
      },
      "source": [
        "print('Hello World!')"
      ],
      "execution_count": 0,
      "outputs": [
        {
          "output_type": "stream",
          "text": [
            "Hello World!\n"
          ],
          "name": "stdout"
        }
      ]
    },
    {
      "cell_type": "code",
      "metadata": {
        "id": "ulC9r8YgNrQq",
        "colab_type": "code",
        "outputId": "6520b5e9-d404-4dab-cd00-af2b28eafdc9",
        "colab": {
          "base_uri": "https://localhost:8080/",
          "height": 35
        }
      },
      "source": [
        "import os\n",
        "print(os.getcwd())"
      ],
      "execution_count": 0,
      "outputs": [
        {
          "output_type": "stream",
          "text": [
            "/content\n"
          ],
          "name": "stdout"
        }
      ]
    },
    {
      "cell_type": "code",
      "metadata": {
        "id": "nfjTLXRON1mZ",
        "colab_type": "code",
        "outputId": "194ad2c8-b039-47d5-b370-22f9abe2353a",
        "colab": {
          "base_uri": "https://localhost:8080/",
          "height": 69
        }
      },
      "source": [
        "print(3+3)\n",
        "print(3*3)\n",
        "print(3**3)"
      ],
      "execution_count": 0,
      "outputs": [
        {
          "output_type": "stream",
          "text": [
            "6\n",
            "9\n",
            "27\n"
          ],
          "name": "stdout"
        }
      ]
    },
    {
      "cell_type": "code",
      "metadata": {
        "id": "EPrR4YMMjCHu",
        "colab_type": "code",
        "outputId": "3df544b5-46a7-4e5e-8828-9d5a3df8483c",
        "colab": {
          "base_uri": "https://localhost:8080/",
          "height": 121
        }
      },
      "source": [
        "x = [5,10,15,20,25,30,35,40]\n",
        "print(x[5])\n",
        "print(x[-1])\n",
        "print(x[3:5])\n",
        "print(x[:5])\n",
        "print(x[-3:])\n",
        "print(x[1:7:2])"
      ],
      "execution_count": 0,
      "outputs": [
        {
          "output_type": "stream",
          "text": [
            "30\n",
            "40\n",
            "[20, 25]\n",
            "[5, 10, 15, 20, 25]\n",
            "[30, 35, 40]\n",
            "[10, 20, 30]\n"
          ],
          "name": "stdout"
        }
      ]
    },
    {
      "cell_type": "code",
      "metadata": {
        "id": "25PBP8RF2R3C",
        "colab_type": "code",
        "outputId": "28b5ed71-79c9-46d4-ad35-dd7e05b279c3",
        "colab": {
          "base_uri": "https://localhost:8080/",
          "height": 35
        }
      },
      "source": [
        "name = \"John\"\n",
        "age = 15\n",
        "print(\"%s is %d years old.\" % (name, age))"
      ],
      "execution_count": 0,
      "outputs": [
        {
          "output_type": "stream",
          "text": [
            "John is 15 years old.\n"
          ],
          "name": "stdout"
        }
      ]
    },
    {
      "cell_type": "code",
      "metadata": {
        "id": "a4f9_yePz8QI",
        "colab_type": "code",
        "outputId": "34f3c2dc-6a03-4868-ea07-e93c4431dcbe",
        "colab": {
          "base_uri": "https://localhost:8080/",
          "height": 35
        }
      },
      "source": [
        "name = \"Alfi\"\n",
        "print(\"Hello, %s!\" % name)"
      ],
      "execution_count": 0,
      "outputs": [
        {
          "output_type": "stream",
          "text": [
            "Hello, Alfi!\n"
          ],
          "name": "stdout"
        }
      ]
    },
    {
      "cell_type": "code",
      "metadata": {
        "id": "pdkmxwxY3IJP",
        "colab_type": "code",
        "outputId": "a94e9c93-718d-49f7-fc3d-0f5e12f0f105",
        "colab": {
          "base_uri": "https://localhost:8080/",
          "height": 35
        }
      },
      "source": [
        "mylist = [1,2,3]\n",
        "print(\"A list: %s\" % mylist)"
      ],
      "execution_count": 0,
      "outputs": [
        {
          "output_type": "stream",
          "text": [
            "A list: [1, 2, 3]\n"
          ],
          "name": "stdout"
        }
      ]
    },
    {
      "cell_type": "code",
      "metadata": {
        "id": "kwtcP7kE866L",
        "colab_type": "code",
        "outputId": "fbbff0a9-435d-40da-f675-52699a451be0",
        "colab": {
          "base_uri": "https://localhost:8080/",
          "height": 35
        }
      },
      "source": [
        "num = input('Enter a number: ')"
      ],
      "execution_count": 0,
      "outputs": [
        {
          "output_type": "stream",
          "text": [
            "Enter a number: 5\n"
          ],
          "name": "stdout"
        }
      ]
    },
    {
      "cell_type": "code",
      "metadata": {
        "id": "TRL32OlQ9B4A",
        "colab_type": "code",
        "outputId": "476ef00f-9e0d-483f-ee1e-55dc4076db76",
        "colab": {
          "base_uri": "https://localhost:8080/",
          "height": 35
        }
      },
      "source": [
        "num"
      ],
      "execution_count": 0,
      "outputs": [
        {
          "output_type": "execute_result",
          "data": {
            "text/plain": [
              "'5'"
            ]
          },
          "metadata": {
            "tags": []
          },
          "execution_count": 15
        }
      ]
    },
    {
      "cell_type": "code",
      "metadata": {
        "id": "vA_jQp1u9E9y",
        "colab_type": "code",
        "outputId": "a31c4257-d5c1-448b-cfb1-c1a8734b7a5f",
        "colab": {
          "base_uri": "https://localhost:8080/",
          "height": 35
        }
      },
      "source": [
        "float(num)"
      ],
      "execution_count": 0,
      "outputs": [
        {
          "output_type": "execute_result",
          "data": {
            "text/plain": [
              "5.0"
            ]
          },
          "metadata": {
            "tags": []
          },
          "execution_count": 16
        }
      ]
    },
    {
      "cell_type": "code",
      "metadata": {
        "id": "dWpjgsMe9Igl",
        "colab_type": "code",
        "outputId": "769d7f87-0908-4db4-e758-4560ede66764",
        "colab": {
          "base_uri": "https://localhost:8080/",
          "height": 166
        }
      },
      "source": [
        "int('2+3')"
      ],
      "execution_count": 0,
      "outputs": [
        {
          "output_type": "error",
          "ename": "ValueError",
          "evalue": "ignored",
          "traceback": [
            "\u001b[0;31m---------------------------------------------------------------------------\u001b[0m",
            "\u001b[0;31mValueError\u001b[0m                                Traceback (most recent call last)",
            "\u001b[0;32m<ipython-input-17-7dc57dc68b93>\u001b[0m in \u001b[0;36m<module>\u001b[0;34m()\u001b[0m\n\u001b[0;32m----> 1\u001b[0;31m \u001b[0mint\u001b[0m\u001b[0;34m(\u001b[0m\u001b[0;34m'2+3'\u001b[0m\u001b[0;34m)\u001b[0m\u001b[0;34m\u001b[0m\u001b[0;34m\u001b[0m\u001b[0m\n\u001b[0m",
            "\u001b[0;31mValueError\u001b[0m: invalid literal for int() with base 10: '2+3'"
          ]
        }
      ]
    },
    {
      "cell_type": "code",
      "metadata": {
        "id": "X68Ojk3T9Mpt",
        "colab_type": "code",
        "outputId": "b536d47d-5d4f-45ae-f5a6-0e2f6969d550",
        "colab": {
          "base_uri": "https://localhost:8080/",
          "height": 35
        }
      },
      "source": [
        "eval('2+3')"
      ],
      "execution_count": 0,
      "outputs": [
        {
          "output_type": "execute_result",
          "data": {
            "text/plain": [
              "5"
            ]
          },
          "metadata": {
            "tags": []
          },
          "execution_count": 18
        }
      ]
    },
    {
      "cell_type": "code",
      "metadata": {
        "id": "ChL3ny11WjMj",
        "colab_type": "code",
        "outputId": "78145213-766e-410b-e4db-58393f47de27",
        "colab": {
          "base_uri": "https://localhost:8080/",
          "height": 52
        }
      },
      "source": [
        "feeling = input('How are you?')\n",
        "if feeling.lower()=='great':\n",
        "  print('I feel great too.')\n",
        "else :\n",
        "  print('I hope the rest of your day is good!')"
      ],
      "execution_count": 0,
      "outputs": [
        {
          "output_type": "stream",
          "text": [
            "How are you?good\n",
            "I hope the rest of your day is good!\n"
          ],
          "name": "stdout"
        }
      ]
    },
    {
      "cell_type": "code",
      "metadata": {
        "id": "Rxgb8iJTYjgM",
        "colab_type": "code",
        "outputId": "83bc41b7-8b6e-4477-b900-c8b1858142e6",
        "colab": {
          "base_uri": "https://localhost:8080/",
          "height": 35
        }
      },
      "source": [
        "'This Is Title Case'.istitle()"
      ],
      "execution_count": 0,
      "outputs": [
        {
          "output_type": "execute_result",
          "data": {
            "text/plain": [
              "True"
            ]
          },
          "metadata": {
            "tags": []
          },
          "execution_count": 7
        }
      ]
    },
    {
      "cell_type": "code",
      "metadata": {
        "id": "4vZ-hRsLYlOf",
        "colab_type": "code",
        "outputId": "db790425-b6bf-4f05-95ed-45016f68f5b1",
        "colab": {
          "base_uri": "https://localhost:8080/",
          "height": 35
        }
      },
      "source": [
        "'This Is Title Case 123'.istitle()"
      ],
      "execution_count": 0,
      "outputs": [
        {
          "output_type": "execute_result",
          "data": {
            "text/plain": [
              "True"
            ]
          },
          "metadata": {
            "tags": []
          },
          "execution_count": 8
        }
      ]
    },
    {
      "cell_type": "code",
      "metadata": {
        "id": "JmHNOvZHYm2W",
        "colab_type": "code",
        "outputId": "917eae56-675e-4d3d-d488-30890e92d0fc",
        "colab": {
          "base_uri": "https://localhost:8080/",
          "height": 35
        }
      },
      "source": [
        "'This Is not Title Case'.istitle()"
      ],
      "execution_count": 0,
      "outputs": [
        {
          "output_type": "execute_result",
          "data": {
            "text/plain": [
              "False"
            ]
          },
          "metadata": {
            "tags": []
          },
          "execution_count": 9
        }
      ]
    },
    {
      "cell_type": "code",
      "metadata": {
        "id": "NNvlW1JMYp0m",
        "colab_type": "code",
        "outputId": "1edd9b90-d8d4-44c1-8918-c1f48b53e605",
        "colab": {
          "base_uri": "https://localhost:8080/",
          "height": 35
        }
      },
      "source": [
        "'This Is NOT Title Case Either'.istitle()"
      ],
      "execution_count": 0,
      "outputs": [
        {
          "output_type": "execute_result",
          "data": {
            "text/plain": [
              "False"
            ]
          },
          "metadata": {
            "tags": []
          },
          "execution_count": 11
        }
      ]
    },
    {
      "cell_type": "code",
      "metadata": {
        "id": "lzErLfzJZU8L",
        "colab_type": "code",
        "outputId": "697defc2-b897-4673-ed3e-82dda6a88393",
        "colab": {
          "base_uri": "https://localhost:8080/",
          "height": 243
        }
      },
      "source": [
        "while True:\n",
        "    print('Enter your age:')\n",
        "    age = input()\n",
        "    if age.isdecimal():\n",
        "        break\n",
        "    print('Please enter a number for your age.')\n",
        "while True:\n",
        "    print('Select a new password (letters and numbers only):')\n",
        "    password = input()\n",
        "    if password.isalnum():\n",
        "        break\n",
        "    print('Passwords can only have letters and numbers.')"
      ],
      "execution_count": 0,
      "outputs": [
        {
          "output_type": "stream",
          "text": [
            "Enter your age:\n",
            "twenty\n",
            "Please enter a number for your age.\n",
            "Enter your age:\n",
            "20\n",
            "Select a new password (letters and numbers only):\n",
            ";;\n",
            "Passwords can only have letters and numbers.\n",
            "Select a new password (letters and numbers only):\n",
            "kk!\n",
            "Passwords can only have letters and numbers.\n",
            "Select a new password (letters and numbers only):\n",
            "haha123\n"
          ],
          "name": "stdout"
        }
      ]
    },
    {
      "cell_type": "code",
      "metadata": {
        "id": "qfL3O5f57Jcz",
        "colab_type": "code",
        "outputId": "9a845172-cdbc-43d2-dfa0-48f450dfe67e",
        "colab": {
          "base_uri": "https://localhost:8080/",
          "height": 69
        }
      },
      "source": [
        "print(\"Hello there!\\nHow are you?\\nI\\'m doing fine.\")"
      ],
      "execution_count": 0,
      "outputs": [
        {
          "output_type": "stream",
          "text": [
            "Hello there!\n",
            "How are you?\n",
            "I'm doing fine.\n"
          ],
          "name": "stdout"
        }
      ]
    },
    {
      "cell_type": "code",
      "metadata": {
        "id": "s1zM69j_78yF",
        "colab_type": "code",
        "outputId": "9ceff9b3-6a72-4f77-b953-bded4d9be48c",
        "colab": {
          "base_uri": "https://localhost:8080/",
          "height": 52
        }
      },
      "source": [
        "line = \"\"\"Hello\n",
        "testing\"\"\"\n",
        "print(line)"
      ],
      "execution_count": 0,
      "outputs": [
        {
          "output_type": "stream",
          "text": [
            "Hello\n",
            "testing\n"
          ],
          "name": "stdout"
        }
      ]
    },
    {
      "cell_type": "code",
      "metadata": {
        "id": "cl156cIO9DEn",
        "colab_type": "code",
        "outputId": "c566daef-dd23-43fc-fb25-4742b36f52c7",
        "colab": {
          "base_uri": "https://localhost:8080/",
          "height": 35
        }
      },
      "source": [
        "print(r'That is Carol\\'s cat.')"
      ],
      "execution_count": 0,
      "outputs": [
        {
          "output_type": "stream",
          "text": [
            "That is Carol\\'s cat.\n"
          ],
          "name": "stdout"
        }
      ]
    },
    {
      "cell_type": "code",
      "metadata": {
        "id": "br9N5LR7Y-cn",
        "colab_type": "code",
        "outputId": "913b6670-611e-4cef-809f-7bcd2867c660",
        "colab": {
          "base_uri": "https://localhost:8080/",
          "height": 35
        }
      },
      "source": [
        "var1 = 100\n",
        "if var1: print (\"1 - Got a true expression value\")\n",
        "var2 = 0\n",
        "if var2: print (\"2 - Got a true expression value\")"
      ],
      "execution_count": 0,
      "outputs": [
        {
          "output_type": "stream",
          "text": [
            "1 - Got a true expression value\n"
          ],
          "name": "stdout"
        }
      ]
    },
    {
      "cell_type": "code",
      "metadata": {
        "id": "onZB7O4qZggN",
        "colab_type": "code",
        "outputId": "aba3a219-7c28-44be-ec6b-313c6a9ad2e0",
        "colab": {
          "base_uri": "https://localhost:8080/",
          "height": 69
        }
      },
      "source": [
        "amount = int(input(\"Enter amount: \"))\n",
        "if amount<1000:\n",
        "   discount = amount*0.05\n",
        "   print (\"Discount\",discount)\n",
        "else:\n",
        "   discount = amount*0.10\n",
        "   print (\"Discount\",discount)\n",
        "   \n",
        "print (\"Net payable:\",amount-discount)"
      ],
      "execution_count": 0,
      "outputs": [
        {
          "output_type": "stream",
          "text": [
            "Enter amount: 26000\n",
            "Discount 2600.0\n",
            "Net payable: 23400.0\n"
          ],
          "name": "stdout"
        }
      ]
    },
    {
      "cell_type": "code",
      "metadata": {
        "id": "R2l8yHZhZnBt",
        "colab_type": "code",
        "outputId": "7c8292e8-4ec1-4d62-f353-cdbe5583a18b",
        "colab": {
          "base_uri": "https://localhost:8080/",
          "height": 35
        }
      },
      "source": [
        "a = 8\n",
        "if a % 2 == 0:\n",
        "    print('bilangan {} adalah genap'.format(a))\n",
        "else:\n",
        "    print('bilangan {} adalah ganjil'.format(a))"
      ],
      "execution_count": 0,
      "outputs": [
        {
          "output_type": "stream",
          "text": [
            "bilangan 8 adalah genap\n"
          ],
          "name": "stdout"
        }
      ]
    },
    {
      "cell_type": "code",
      "metadata": {
        "id": "LWvEtIFZZoc9",
        "colab_type": "code",
        "outputId": "a5f9b93e-0153-40b8-984d-ccb511e46161",
        "colab": {
          "base_uri": "https://localhost:8080/",
          "height": 35
        }
      },
      "source": [
        "a = 8\n",
        "if a % 2 == 0:\n",
        "    print('bilangan {} adalah genap',a)\n",
        "else:\n",
        "    print('bilangan {} adalah ganjil',a)"
      ],
      "execution_count": 0,
      "outputs": [
        {
          "output_type": "stream",
          "text": [
            "bilangan {} adalah genap 8\n"
          ],
          "name": "stdout"
        }
      ]
    },
    {
      "cell_type": "code",
      "metadata": {
        "id": "gxzwfhW0aO-0",
        "colab_type": "code",
        "outputId": "a07490d5-31af-42c7-c18a-7de195d13507",
        "colab": {
          "base_uri": "https://localhost:8080/",
          "height": 69
        }
      },
      "source": [
        "amount = int(input(\"Enter amount: \"))\n",
        "if amount<1000:\n",
        "   discount = amount*0.05\n",
        "   print (\"Discount\",discount)\n",
        "elif amount<5000:\n",
        "   discount = amount*0.10\n",
        "   print (\"Discount\",discount)\n",
        "else:\n",
        "   discount = amount*0.15\n",
        "   print (\"Discount\",discount)\n",
        "print (\"Net payable:\",amount-discount)"
      ],
      "execution_count": 0,
      "outputs": [
        {
          "output_type": "stream",
          "text": [
            "Enter amount: 600\n",
            "Discount 30.0\n",
            "Net payable: 570.0\n"
          ],
          "name": "stdout"
        }
      ]
    },
    {
      "cell_type": "code",
      "metadata": {
        "id": "xNfHMul-av5J",
        "colab_type": "code",
        "outputId": "14b05f0d-46ca-4a21-d86d-1f9790291031",
        "colab": {
          "base_uri": "https://localhost:8080/",
          "height": 35
        }
      },
      "source": [
        "a = 80\n",
        "if a > 0:\n",
        "    print('bilangan {} adalah positif'.format(a))\n",
        "elif a < 0:\n",
        "    print('bilangan {} adalah negatif'.format(a))\n",
        "else:\n",
        "    print('bilangan {} adalah nol'.format(a))"
      ],
      "execution_count": 0,
      "outputs": [
        {
          "output_type": "stream",
          "text": [
            "bilangan 80 adalah positif\n"
          ],
          "name": "stdout"
        }
      ]
    },
    {
      "cell_type": "code",
      "metadata": {
        "id": "xIG_jDd5bqPB",
        "colab_type": "code",
        "outputId": "baf68084-ecc0-4c92-8953-851efa00b2a1",
        "colab": {
          "base_uri": "https://localhost:8080/",
          "height": 235
        }
      },
      "source": [
        "condition = True\n",
        "print(2 if condition else 1/0)\n",
        "#Output is 2\n",
        "print((1/0, 2)[condition])\n",
        "#ZeroDivisionError is raised"
      ],
      "execution_count": 0,
      "outputs": [
        {
          "output_type": "stream",
          "text": [
            "2\n"
          ],
          "name": "stdout"
        },
        {
          "output_type": "error",
          "ename": "ZeroDivisionError",
          "evalue": "ignored",
          "traceback": [
            "\u001b[0;31m---------------------------------------------------------------------------\u001b[0m",
            "\u001b[0;31mZeroDivisionError\u001b[0m                         Traceback (most recent call last)",
            "\u001b[0;32m<ipython-input-21-7f6a83dcc2d4>\u001b[0m in \u001b[0;36m<module>\u001b[0;34m()\u001b[0m\n\u001b[1;32m      2\u001b[0m \u001b[0mprint\u001b[0m\u001b[0;34m(\u001b[0m\u001b[0;36m2\u001b[0m \u001b[0;32mif\u001b[0m \u001b[0mcondition\u001b[0m \u001b[0;32melse\u001b[0m \u001b[0;36m1\u001b[0m\u001b[0;34m/\u001b[0m\u001b[0;36m0\u001b[0m\u001b[0;34m)\u001b[0m\u001b[0;34m\u001b[0m\u001b[0;34m\u001b[0m\u001b[0m\n\u001b[1;32m      3\u001b[0m \u001b[0;31m#Output is 2\u001b[0m\u001b[0;34m\u001b[0m\u001b[0;34m\u001b[0m\u001b[0;34m\u001b[0m\u001b[0m\n\u001b[0;32m----> 4\u001b[0;31m \u001b[0mprint\u001b[0m\u001b[0;34m(\u001b[0m\u001b[0;34m(\u001b[0m\u001b[0;36m1\u001b[0m\u001b[0;34m/\u001b[0m\u001b[0;36m0\u001b[0m\u001b[0;34m,\u001b[0m \u001b[0;36m2\u001b[0m\u001b[0;34m)\u001b[0m\u001b[0;34m[\u001b[0m\u001b[0mcondition\u001b[0m\u001b[0;34m]\u001b[0m\u001b[0;34m)\u001b[0m\u001b[0;34m\u001b[0m\u001b[0;34m\u001b[0m\u001b[0m\n\u001b[0m\u001b[1;32m      5\u001b[0m \u001b[0;31m#ZeroDivisionError is raised\u001b[0m\u001b[0;34m\u001b[0m\u001b[0;34m\u001b[0m\u001b[0;34m\u001b[0m\u001b[0m\n",
            "\u001b[0;31mZeroDivisionError\u001b[0m: division by zero"
          ]
        }
      ]
    },
    {
      "cell_type": "code",
      "metadata": {
        "id": "XB08rDmOb1D0",
        "colab_type": "code",
        "outputId": "3d98d52b-2921-408e-c962-c8224d87be3b",
        "colab": {
          "base_uri": "https://localhost:8080/",
          "height": 35
        }
      },
      "source": [
        "output = None\n",
        "msg = output or \"No data returned\"\n",
        "print(msg)"
      ],
      "execution_count": 0,
      "outputs": [
        {
          "output_type": "stream",
          "text": [
            "No data returned\n"
          ],
          "name": "stdout"
        }
      ]
    },
    {
      "cell_type": "code",
      "metadata": {
        "id": "dwLO8_5ndD4D",
        "colab_type": "code",
        "colab": {
          "base_uri": "https://localhost:8080/",
          "height": 208
        },
        "outputId": "ee9f27cc-d251-46a3-9d75-b7cf8833d627"
      },
      "source": [
        "for letter in 'Python': #firstexample\n",
        "  print('Current word : {}'.format(letter))\n",
        "fruits = ['tanggo', 'mango']\n",
        "for fruit in fruits:\n",
        "  print('Current word : {}'.format(fruit))\n",
        "fruits = ['banana', 'apple', 'mango']\n",
        "for index in range(len(fruits)):\n",
        "    print('Current fruit: {}'.format(fruits[index]))\n"
      ],
      "execution_count": 29,
      "outputs": [
        {
          "output_type": "stream",
          "text": [
            "Current word : P\n",
            "Current word : y\n",
            "Current word : t\n",
            "Current word : h\n",
            "Current word : o\n",
            "Current word : n\n",
            "Current word : tanggo\n",
            "Current word : mango\n",
            "Current fruit: banana\n",
            "Current fruit: apple\n",
            "Current fruit: mango\n"
          ],
          "name": "stdout"
        }
      ]
    },
    {
      "cell_type": "code",
      "metadata": {
        "id": "nwOp3sFyeiU2",
        "colab_type": "code",
        "colab": {
          "base_uri": "https://localhost:8080/",
          "height": 104
        },
        "outputId": "009d70df-2851-495d-d0a9-de3d75abe7d0"
      },
      "source": [
        "count = 0\n",
        "while(count<5):\n",
        "  print(count)\n",
        "  count = count+1"
      ],
      "execution_count": 34,
      "outputs": [
        {
          "output_type": "stream",
          "text": [
            "0\n",
            "1\n",
            "2\n",
            "3\n",
            "4\n"
          ],
          "name": "stdout"
        }
      ]
    },
    {
      "cell_type": "code",
      "metadata": {
        "id": "J8fJU6bKfQB2",
        "colab_type": "code",
        "colab": {
          "base_uri": "https://localhost:8080/",
          "height": 104
        },
        "outputId": "588269be-b2d1-4ed2-ae19-e8ae90514fee"
      },
      "source": [
        "for i in range(0,5):\n",
        "  for j in range(0,5-i):\n",
        "    print(\"*\",end='')\n",
        "  print()"
      ],
      "execution_count": 37,
      "outputs": [
        {
          "output_type": "stream",
          "text": [
            "*****\n",
            "****\n",
            "***\n",
            "**\n",
            "*\n"
          ],
          "name": "stdout"
        }
      ]
    },
    {
      "cell_type": "code",
      "metadata": {
        "id": "8W83HPutvBML",
        "colab_type": "code",
        "colab": {
          "base_uri": "https://localhost:8080/",
          "height": 104
        },
        "outputId": "c8ed59ac-cb6c-49f6-c91b-30a7bc7c0a71"
      },
      "source": [
        "var = 10                    # Second Example\n",
        "while var > 0:             \n",
        "    print('Current variable value: {}'.format(var))\n",
        "    var = var - 1\n",
        "    if var == 5:\n",
        "        break"
      ],
      "execution_count": 38,
      "outputs": [
        {
          "output_type": "stream",
          "text": [
            "Current variable value: 10\n",
            "Current variable value: 9\n",
            "Current variable value: 8\n",
            "Current variable value: 7\n",
            "Current variable value: 6\n"
          ],
          "name": "stdout"
        }
      ]
    },
    {
      "cell_type": "code",
      "metadata": {
        "id": "0zl5PF8avOEv",
        "colab_type": "code",
        "colab": {
          "base_uri": "https://localhost:8080/",
          "height": 104
        },
        "outputId": "ed051618-0e65-4278-e119-838ceabdc5ee"
      },
      "source": [
        "for letter in 'Python':     # First Example\n",
        "    if letter == 'h':\n",
        "        continue\n",
        "    print('Current letter: {}'.format(letter))"
      ],
      "execution_count": 39,
      "outputs": [
        {
          "output_type": "stream",
          "text": [
            "Current letter: P\n",
            "Current letter: y\n",
            "Current letter: t\n",
            "Current letter: o\n",
            "Current letter: n\n"
          ],
          "name": "stdout"
        }
      ]
    },
    {
      "cell_type": "code",
      "metadata": {
        "id": "Zi4LRQWWwhqa",
        "colab_type": "code",
        "colab": {
          "base_uri": "https://localhost:8080/",
          "height": 87
        },
        "outputId": "3e308550-27c2-4c01-ac23-75a90a505ca7"
      },
      "source": [
        "for n in range(2, 10):\n",
        "    for x in range(2, n):\n",
        "        if n % x == 0:\n",
        "            print(n, 'equals', x, '*', n/x)\n",
        "            break"
      ],
      "execution_count": 40,
      "outputs": [
        {
          "output_type": "stream",
          "text": [
            "4 equals 2 * 2.0\n",
            "6 equals 2 * 3.0\n",
            "8 equals 2 * 4.0\n",
            "9 equals 3 * 3.0\n"
          ],
          "name": "stdout"
        }
      ]
    },
    {
      "cell_type": "code",
      "metadata": {
        "id": "RFhy85KZw4_I",
        "colab_type": "code",
        "colab": {
          "base_uri": "https://localhost:8080/",
          "height": 35
        },
        "outputId": "dc48998f-6816-4b5b-bc23-72ab783c3246"
      },
      "source": [
        "for n in range(2,3):\n",
        "  print('tes')"
      ],
      "execution_count": 43,
      "outputs": [
        {
          "output_type": "stream",
          "text": [
            "tes\n"
          ],
          "name": "stdout"
        }
      ]
    },
    {
      "cell_type": "code",
      "metadata": {
        "id": "Nm1gB0v5xPhz",
        "colab_type": "code",
        "colab": {
          "base_uri": "https://localhost:8080/",
          "height": 156
        },
        "outputId": "f4f3f1b5-571f-4a43-d181-26bbf8343e75"
      },
      "source": [
        "for n in range(2, 10):\n",
        "    for x in range(2, n):\n",
        "        if n % x == 0:\n",
        "            print( n, 'equals', x, '*', n/x)\n",
        "            break\n",
        "    else:\n",
        "        # loop fell through without finding a factor\n",
        "        print(n, 'is a prime number')"
      ],
      "execution_count": 44,
      "outputs": [
        {
          "output_type": "stream",
          "text": [
            "2 is a prime number\n",
            "3 is a prime number\n",
            "4 equals 2 * 2.0\n",
            "5 is a prime number\n",
            "6 equals 2 * 3.0\n",
            "7 is a prime number\n",
            "8 equals 2 * 4.0\n",
            "9 equals 3 * 3.0\n"
          ],
          "name": "stdout"
        }
      ]
    },
    {
      "cell_type": "code",
      "metadata": {
        "id": "RtimE-xYxkSj",
        "colab_type": "code",
        "colab": {
          "base_uri": "https://localhost:8080/",
          "height": 260
        },
        "outputId": "b2690b3f-30dd-4d65-d367-3a5fc9a64973"
      },
      "source": [
        "for n in range(2,9):\n",
        "  print(n,'\\n')"
      ],
      "execution_count": 50,
      "outputs": [
        {
          "output_type": "stream",
          "text": [
            "2 \n",
            "\n",
            "3 \n",
            "\n",
            "4 \n",
            "\n",
            "5 \n",
            "\n",
            "6 \n",
            "\n",
            "7 \n",
            "\n",
            "8 \n",
            "\n"
          ],
          "name": "stdout"
        }
      ]
    },
    {
      "cell_type": "code",
      "metadata": {
        "id": "XN0I8SawyPsR",
        "colab_type": "code",
        "colab": {
          "base_uri": "https://localhost:8080/",
          "height": 52
        },
        "outputId": "d4da0e8b-7632-4d36-8719-7902084aa1c6"
      },
      "source": [
        "n = 5\n",
        "while n > 0:\n",
        "    n = n - 1\n",
        "    if n == 2:\n",
        "        break\n",
        "    print(n)\n",
        "else:\n",
        "    print(\"Loop is finished\")"
      ],
      "execution_count": 52,
      "outputs": [
        {
          "output_type": "stream",
          "text": [
            "4\n",
            "3\n"
          ],
          "name": "stdout"
        }
      ]
    },
    {
      "cell_type": "code",
      "metadata": {
        "id": "QfhcZmLhzC0e",
        "colab_type": "code",
        "colab": {
          "base_uri": "https://localhost:8080/",
          "height": 218
        },
        "outputId": "a08d1b21-914e-4b74-e30a-01bd39f2b2ab"
      },
      "source": [
        "var1=\"\"\n",
        "while(var1!=\"exit\"):\n",
        "    var1=input('Please enter an integer (type exit to exit): ')\n",
        "    print(int(var1))"
      ],
      "execution_count": 59,
      "outputs": [
        {
          "output_type": "stream",
          "text": [
            "Please enter an integer (type exit to exit): a\n"
          ],
          "name": "stdout"
        },
        {
          "output_type": "error",
          "ename": "ValueError",
          "evalue": "ignored",
          "traceback": [
            "\u001b[0;31m---------------------------------------------------------------------------\u001b[0m",
            "\u001b[0;31mValueError\u001b[0m                                Traceback (most recent call last)",
            "\u001b[0;32m<ipython-input-59-0607849123f6>\u001b[0m in \u001b[0;36m<module>\u001b[0;34m()\u001b[0m\n\u001b[1;32m      2\u001b[0m \u001b[0;32mwhile\u001b[0m\u001b[0;34m(\u001b[0m\u001b[0mvar1\u001b[0m\u001b[0;34m!=\u001b[0m\u001b[0;34m\"exit\"\u001b[0m\u001b[0;34m)\u001b[0m\u001b[0;34m:\u001b[0m\u001b[0;34m\u001b[0m\u001b[0;34m\u001b[0m\u001b[0m\n\u001b[1;32m      3\u001b[0m     \u001b[0mvar1\u001b[0m\u001b[0;34m=\u001b[0m\u001b[0minput\u001b[0m\u001b[0;34m(\u001b[0m\u001b[0;34m'Please enter an integer (type exit to exit): '\u001b[0m\u001b[0;34m)\u001b[0m\u001b[0;34m\u001b[0m\u001b[0;34m\u001b[0m\u001b[0m\n\u001b[0;32m----> 4\u001b[0;31m     \u001b[0mprint\u001b[0m\u001b[0;34m(\u001b[0m\u001b[0mint\u001b[0m\u001b[0;34m(\u001b[0m\u001b[0mvar1\u001b[0m\u001b[0;34m)\u001b[0m\u001b[0;34m)\u001b[0m\u001b[0;34m\u001b[0m\u001b[0;34m\u001b[0m\u001b[0m\n\u001b[0m",
            "\u001b[0;31mValueError\u001b[0m: invalid literal for int() with base 10: 'a'"
          ]
        }
      ]
    },
    {
      "cell_type": "code",
      "metadata": {
        "id": "kOMKCyTnzcey",
        "colab_type": "code",
        "colab": {
          "base_uri": "https://localhost:8080/",
          "height": 104
        },
        "outputId": "e9d5b8a9-2d6c-41e8-a8ed-c638d03ab6da"
      },
      "source": [
        "import sys\n",
        "data=''\n",
        "while(data!='exit'):\n",
        "    try:\n",
        "        data=input('Please enter an integer (type exit to exit): ')\n",
        "        print('got integer: {}'.format(int(data)))\n",
        "    except:\n",
        "        if data == 'exit':\n",
        "            pass  # exit gracefully without prompt any error\n",
        "        else:\n",
        "            print('error: {}'.format(sys.exc_info()[0]))"
      ],
      "execution_count": 57,
      "outputs": [
        {
          "output_type": "stream",
          "text": [
            "Please enter an integer (type exit to exit): 3\n",
            "got integer: 3\n",
            "Please enter an integer (type exit to exit): a\n",
            "error: <class 'ValueError'>\n",
            "Please enter an integer (type exit to exit): exit\n"
          ],
          "name": "stdout"
        }
      ]
    },
    {
      "cell_type": "code",
      "metadata": {
        "id": "MED0j8TCzkZs",
        "colab_type": "code",
        "colab": {
          "base_uri": "https://localhost:8080/",
          "height": 139
        },
        "outputId": "6d42f71e-6a08-48ae-f4da-a075174deb0f"
      },
      "source": [
        "for letter in 'Python':\n",
        "    if letter == 'h':\n",
        "        pass\n",
        "        print (\"This is pass block\")\n",
        "    print('Current letter: {}'.format(letter))"
      ],
      "execution_count": 58,
      "outputs": [
        {
          "output_type": "stream",
          "text": [
            "Current letter: P\n",
            "Current letter: y\n",
            "Current letter: t\n",
            "This is pass block\n",
            "Current letter: h\n",
            "Current letter: o\n",
            "Current letter: n\n"
          ],
          "name": "stdout"
        }
      ]
    },
    {
      "cell_type": "code",
      "metadata": {
        "id": "FwD1eJ6i2VCf",
        "colab_type": "code",
        "colab": {
          "base_uri": "https://localhost:8080/",
          "height": 35
        },
        "outputId": "6699a938-f7fc-4133-8750-946304241d65"
      },
      "source": [
        "#Cara 2 List Comprehension\n",
        "numbers = [1, 2, 3, 4]\n",
        "squares = [n**2 for n in numbers]\n",
        "print(squares)"
      ],
      "execution_count": 60,
      "outputs": [
        {
          "output_type": "stream",
          "text": [
            "[1, 4, 9, 16]\n"
          ],
          "name": "stdout"
        }
      ]
    },
    {
      "cell_type": "code",
      "metadata": {
        "id": "fDzWZNdE2YiZ",
        "colab_type": "code",
        "colab": {
          "base_uri": "https://localhost:8080/",
          "height": 35
        },
        "outputId": "dc5270fc-f0fd-49b8-ee5c-3e3504883e47"
      },
      "source": [
        "list_a = [1, 2, 3, 4]\n",
        "list_b = [2, 3, 4, 5]\n",
        "common_num = [a for a in list_a for b in list_b if a == b]\n",
        "print(common_num) # Output: [2, 3, 4]"
      ],
      "execution_count": 61,
      "outputs": [
        {
          "output_type": "stream",
          "text": [
            "[2, 3, 4]\n"
          ],
          "name": "stdout"
        }
      ]
    },
    {
      "cell_type": "code",
      "metadata": {
        "id": "FZ6GAh-h2dGw",
        "colab_type": "code",
        "colab": {
          "base_uri": "https://localhost:8080/",
          "height": 35
        },
        "outputId": "e672f73e-6f9d-48c1-f1dd-163b1d714028"
      },
      "source": [
        "# Contoh 5 kecilkan semua huruf\n",
        "list_a = [\"Hello\", \"World\", \"In\", \"Python\"]\n",
        "small_list_a = [_.lower() for _ in list_a]\n",
        "print(small_list_a) # Output: ['hello', 'world', 'in', 'python']"
      ],
      "execution_count": 64,
      "outputs": [
        {
          "output_type": "stream",
          "text": [
            "['hello', 'world', 'in', 'python']\n"
          ],
          "name": "stdout"
        }
      ]
    },
    {
      "cell_type": "code",
      "metadata": {
        "id": "c1hoipbb32WT",
        "colab_type": "code",
        "colab": {
          "base_uri": "https://localhost:8080/",
          "height": 131
        },
        "outputId": "7b109076-1cc3-4be2-9455-e5c6a314028d"
      },
      "source": [
        "while True print ('error pasti haha')"
      ],
      "execution_count": 67,
      "outputs": [
        {
          "output_type": "error",
          "ename": "SyntaxError",
          "evalue": "ignored",
          "traceback": [
            "\u001b[0;36m  File \u001b[0;32m\"<ipython-input-67-ac392a5e1dfd>\"\u001b[0;36m, line \u001b[0;32m1\u001b[0m\n\u001b[0;31m    while True print ('error pasti haha')\u001b[0m\n\u001b[0m                   ^\u001b[0m\n\u001b[0;31mSyntaxError\u001b[0m\u001b[0;31m:\u001b[0m invalid syntax\n"
          ]
        }
      ]
    },
    {
      "cell_type": "code",
      "metadata": {
        "id": "zzN84E8gN5Jk",
        "colab_type": "code",
        "colab": {
          "base_uri": "https://localhost:8080/",
          "height": 52
        },
        "outputId": "35afa655-7688-41da-c3ef-cc6158fe0ff2"
      },
      "source": [
        "def printme( str ):\n",
        "    print(str)\n",
        "    return\n",
        "#panggil\n",
        "printme(\"Panggilan Pertama\")\n",
        "printme(\"Panggilan Kedua\")"
      ],
      "execution_count": 68,
      "outputs": [
        {
          "output_type": "stream",
          "text": [
            "Panggilan Pertama\n",
            "Panggilan Kedua\n"
          ],
          "name": "stdout"
        }
      ]
    },
    {
      "cell_type": "code",
      "metadata": {
        "id": "Tyd2BUdaOG5P",
        "colab_type": "code",
        "colab": {
          "base_uri": "https://localhost:8080/",
          "height": 52
        },
        "outputId": "cf043a47-c431-403e-e1ae-edf8d1c7d974"
      },
      "source": [
        "def sum(arg1, arg2):\n",
        "    # Add both the parameters and return them.\n",
        "    total = arg1 + arg2\n",
        "    print('Inside the function: {}'.format(total))\n",
        "    return total\n",
        "# Panggil sum\n",
        "total = sum(10, 20);\n",
        "print('Outside the function: {}'.format(total))"
      ],
      "execution_count": 69,
      "outputs": [
        {
          "output_type": "stream",
          "text": [
            "Inside the function: 30\n",
            "Outside the function: 30\n"
          ],
          "name": "stdout"
        }
      ]
    },
    {
      "cell_type": "code",
      "metadata": {
        "id": "Yl6DHqhmOhCA",
        "colab_type": "code",
        "colab": {
          "base_uri": "https://localhost:8080/",
          "height": 35
        },
        "outputId": "2d5c3519-c902-4172-e96a-aee6cf730540"
      },
      "source": [
        "def kuadrat(x):\n",
        "    return x*x\n",
        "\n",
        "a = 10\n",
        "b = kuadrat(a)\n",
        "print(\"Kuadrat dari {} adalah {}\".format(a,b))\n"
      ],
      "execution_count": 75,
      "outputs": [
        {
          "output_type": "stream",
          "text": [
            "Kuadrat dari 10 adalah 100\n"
          ],
          "name": "stdout"
        }
      ]
    },
    {
      "cell_type": "code",
      "metadata": {
        "id": "9zenqKDUPl_q",
        "colab_type": "code",
        "colab": {
          "base_uri": "https://localhost:8080/",
          "height": 52
        },
        "outputId": "3524a01c-ccdf-4860-80c5-f8d71537a75c"
      },
      "source": [
        "# Function definition is here\n",
        "def changeme(mylist):\n",
        "    \"Variabel mylist berikut hanya dikenali (berlaku) di dalam fungsi\"\n",
        "    mylist = [1, 2, 3, 4]  # This would assign new reference in mylist\n",
        "    print ('Nilai di dalam fungsi: {}'.format(mylist))\n",
        " \n",
        "# Panggil fungsi changeme\n",
        "mylist = [10, 20, 30, 40, 50]\n",
        "changeme(mylist)\n",
        "print('Nilai di luar fungsi: {}'.format(mylist))"
      ],
      "execution_count": 76,
      "outputs": [
        {
          "output_type": "stream",
          "text": [
            "Nilai di dalam fungsi: [1, 2, 3, 4]\n",
            "Nilai di luar fungsi: [10, 20, 30, 40, 50]\n"
          ],
          "name": "stdout"
        }
      ]
    },
    {
      "cell_type": "code",
      "metadata": {
        "id": "UUPA89hyTtIp",
        "colab_type": "code",
        "colab": {
          "base_uri": "https://localhost:8080/",
          "height": 87
        },
        "outputId": "7e79f517-ceaa-4fa3-9041-c073885ab260"
      },
      "source": [
        "# argumen dengan nilai bawaan harus setelah argumen tanpa bawaaan\n",
        "def printinfo(name, age=35):\n",
        "   \"This prints a passed info into this function\"\n",
        "   print('Name: ', name)\n",
        "   print ('Age: ', age)\n",
        " \n",
        "# Now you can call printinfo function (with optional argument age)\n",
        "printinfo(age=5, name='Dicoding')\n",
        "printinfo(name='Data')"
      ],
      "execution_count": 79,
      "outputs": [
        {
          "output_type": "stream",
          "text": [
            "Name:  Dicoding\n",
            "Age:  5\n",
            "Name:  Data\n",
            "Age:  35\n"
          ],
          "name": "stdout"
        }
      ]
    },
    {
      "cell_type": "code",
      "metadata": {
        "id": "c0isEp5TT0kM",
        "colab_type": "code",
        "colab": {
          "base_uri": "https://localhost:8080/",
          "height": 52
        },
        "outputId": "ad7566b5-304a-4d82-cb5a-650f4c9cda78"
      },
      "source": [
        "def printinfo(age=35):\n",
        "   \"This prints a passed info into this function\"\n",
        "   print ('Age: ', age)\n",
        " \n",
        "# Now you can call printinfo function (with optional argument age)\n",
        "printinfo(age=5)\n",
        "printinfo()"
      ],
      "execution_count": 78,
      "outputs": [
        {
          "output_type": "stream",
          "text": [
            "Age:  5\n",
            "Age:  35\n"
          ],
          "name": "stdout"
        }
      ]
    },
    {
      "cell_type": "code",
      "metadata": {
        "id": "07YxRiyWVV-7",
        "colab_type": "code",
        "colab": {
          "base_uri": "https://localhost:8080/",
          "height": 260
        },
        "outputId": "3222105d-ea58-4521-dc29-0ba6f9b6a325"
      },
      "source": [
        "def printinfo(*args, **kwargs):\n",
        "    for a in args:\n",
        "        print('argumen posisi {}'.format(a))\n",
        "    for key, value in kwargs.items():\n",
        "        print('argument kata kunci {}:{}'.format(key, value))\n",
        " \n",
        " \n",
        "# Panggil printinfo\n",
        "printinfo()\n",
        "printinfo(1, 2, 3)\n",
        "printinfo(i=7, j=8, k=9)\n",
        "printinfo(1, 2, j=8, k=9)\n",
        "printinfo(*(2, 3), **{'i':7, 'j':8})"
      ],
      "execution_count": 80,
      "outputs": [
        {
          "output_type": "stream",
          "text": [
            "argumen posisi 1\n",
            "argumen posisi 2\n",
            "argumen posisi 3\n",
            "argument kata kunci i:7\n",
            "argument kata kunci j:8\n",
            "argument kata kunci k:9\n",
            "argumen posisi 1\n",
            "argumen posisi 2\n",
            "argument kata kunci j:8\n",
            "argument kata kunci k:9\n",
            "argumen posisi 2\n",
            "argumen posisi 3\n",
            "argument kata kunci i:7\n",
            "argument kata kunci j:8\n"
          ],
          "name": "stdout"
        }
      ]
    },
    {
      "cell_type": "code",
      "metadata": {
        "id": "XEnJs4TDb16q",
        "colab_type": "code",
        "colab": {
          "base_uri": "https://localhost:8080/",
          "height": 52
        },
        "outputId": "f84c409c-5e3d-419a-a031-50212dac4288"
      },
      "source": [
        "total = 0  # This is global variable.\n",
        "# fungsi didefinisikan di bawah ini\n",
        "def sum(arg1, arg2):\n",
        "    global total\n",
        "    total = arg1 + arg2 # variabel lokal total\n",
        "    print('Inside the function local total: ', total)\n",
        "    return total\n",
        " \n",
        "sum(10, 20)\n",
        "print('Outside the function (global) total: ', total)"
      ],
      "execution_count": 81,
      "outputs": [
        {
          "output_type": "stream",
          "text": [
            "Inside the function local total:  30\n",
            "Outside the function (global) total:  30\n"
          ],
          "name": "stdout"
        }
      ]
    },
    {
      "cell_type": "code",
      "metadata": {
        "id": "RqpMPDX4xAwa",
        "colab_type": "code",
        "colab": {
          "base_uri": "https://localhost:8080/",
          "height": 35
        },
        "outputId": "29f718b8-c183-4735-f93b-1253b731d1af"
      },
      "source": [
        "x = 300\n",
        "str(x).zfill(5)"
      ],
      "execution_count": 86,
      "outputs": [
        {
          "output_type": "execute_result",
          "data": {
            "text/plain": [
              "'00300'"
            ]
          },
          "metadata": {
            "tags": []
          },
          "execution_count": 86
        }
      ]
    }
  ]
}